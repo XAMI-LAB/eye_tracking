{
 "cells": [
  {
   "attachments": {},
   "cell_type": "markdown",
   "metadata": {},
   "source": [
    "# MIMIC-EYE 1.0 - An Eye-Tracking Data Analytics Toolkit for REFLACX and EYE GAZE"
   ]
  },
  {
   "cell_type": "code",
   "execution_count": 1,
   "metadata": {},
   "outputs": [],
   "source": [
    "import pandas as pd\n",
    "pd.set_option('display.max_columns', 500)\n",
    "\n",
    "import numpy as np\n",
    "import os\n",
    "import pickle as pkl\n",
    "import matplotlib.pyplot as plt"
   ]
  },
  {
   "cell_type": "code",
   "execution_count": 2,
   "metadata": {},
   "outputs": [],
   "source": [
    "from mimic.Patient import Patient\n",
    "from mimic.XrayStudy import XrayStudy\n",
    "from mimic.Xray import Xray\n",
    "from MIMIC_EYE import MIMIC_EYE\n",
    "from Constants import Constants as c\n",
    "from data.eyegaze.BoundingBox import BoundingBox\n",
    "\n",
    "from util.mimic_data_processing import *"
   ]
  },
  {
   "cell_type": "code",
   "execution_count": 3,
   "metadata": {},
   "outputs": [],
   "source": [
    "# starting program\n",
    "mimic_eye = MIMIC_EYE()"
   ]
  },
  {
   "cell_type": "code",
   "execution_count": 12,
   "metadata": {},
   "outputs": [],
   "source": [
    "eye_gaze_sheet = os.path.join(c.DATASET_PATH, \"spreadsheets\", 'EyeGaze', \"master_sheet_with_updated_stayId.csv\")\n",
    "eye_gaze_df = pd.read_csv( eye_gaze_sheet )\n",
    "\n",
    "# extract all patient keys from EYE GAZE dataset\n",
    "patient_keys = eye_gaze_df['patient_id'].values.tolist()[0:5]\n",
    "for patient_key in patient_keys:\n",
    "  \n",
    "  # performs an inner join between the eye_gaze dataframe and the MIMIC core data on the patient_id key\n",
    "  # this allows us to obtain all information about a patient\n",
    "  # if there are multiple records of the patient (due to several visits to the hospital), we record the \n",
    "  # patient's information of his last visit to the hospital\n",
    "  mimic_core = join_patients_mimic_core_data( patient_key, eye_gaze_df)\n",
    "\n",
    "  # create a new Patient\n",
    "  patient = Patient(mimic_core[\"patient_id\"].tail(1).values[0], \\\n",
    "                    mimic_core[\"gender_x\"].tail(1).values[0], \\\n",
    "                    mimic_core[\"language\"].tail(1).values[0], \\\n",
    "                    mimic_core[\"marital_status\"].tail(1).values[0],\\\n",
    "                    mimic_core[\"race\"].tail(1).values[0], \\\n",
    "                    mimic_core[\"anchor_age_x\"].tail(1).values[0], \\\n",
    "                    mimic_core[\"anchor_year\"].tail(1).values[0], \\\n",
    "                    mimic_core[\"dod\"].tail(1).values[0], \\\n",
    "                    mimic_core[\"anchor_year_group\"].tail(1).values[0], {}, {}  )\n",
    "\n",
    "  # get all CXR images associated to patient with patient_key\n",
    "  xray_lst = []\n",
    "  patient_df = eye_gaze_df[ eye_gaze_df[ \"patient_id\"] == patient_key ]\n",
    "  for row in patient_df.itertuples():\n",
    "    xray_id = row.dicom_id\n",
    "    study_id = \"s\"+str(row.study_id)\n",
    "    report = read_CXR_report( patient_key, study_id )\n",
    "\n",
    "    # a patient can have many imagaeology studies, and each study is composed of at least one XRay image\n",
    "    # one xray is given by an image file, a textual report with all the findings and diagnosis\n",
    "    # and s set o\n",
    "    xray_dicom_path = c.MIMIC_DICOM_PATH(c.DATASET_PATH, patient_key, study_id, xray_id)\n",
    "    xray_jpg_path = c.MIMIC_JPG_PATH(c.DATASET_PATH, patient_key, study_id, xray_id)\n",
    "  \n",
    "    bbox_lst = []\n",
    "    bboxes_df = pd.read_csv( c.EYE_GAZE_BBOX_PATH(c.DATASET_PATH, patient_key) )\n",
    "    for bbox in bboxes_df.itertuples():\n",
    "      bbox_lst.append(BoundingBox(bbox.x1, bbox.x2, bbox.y1, bbox.y2, bbox.bbox_name ))\n",
    "    xray_lst.append( Xray(xray_id, study_id, report, xray_dicom_path, xray_jpg_path, bbox_lst))\n",
    "    \n",
    "  \n",
    "\n",
    "  # find all Xrays belonging to patient with key patient_id\n",
    "  \n",
    "  #xrayStudy = XrayStudy(  )\n",
    "\n",
    "\n",
    "  # create a new Xray\n",
    "  \n",
    "  \n"
   ]
  },
  {
   "cell_type": "code",
   "execution_count": 5,
   "metadata": {},
   "outputs": [
    {
     "data": {
      "text/plain": [
       "'/Volumes/SD_DISK/XAMI-MIMICv2.0/patient_15628804/CXR-DICOM/s58573295/24c7496c-d7635dfe-b8e0b87f-d818affc-78ff7cf4.dcm'"
      ]
     },
     "execution_count": 5,
     "metadata": {},
     "output_type": "execute_result"
    }
   ],
   "source": [
    "xray_lst"
   ]
  },
  {
   "cell_type": "code",
   "execution_count": 12,
   "metadata": {},
   "outputs": [
    {
     "data": {
      "text/html": [
       "<div>\n",
       "<style scoped>\n",
       "    .dataframe tbody tr th:only-of-type {\n",
       "        vertical-align: middle;\n",
       "    }\n",
       "\n",
       "    .dataframe tbody tr th {\n",
       "        vertical-align: top;\n",
       "    }\n",
       "\n",
       "    .dataframe thead th {\n",
       "        text-align: right;\n",
       "    }\n",
       "</style>\n",
       "<table border=\"1\" class=\"dataframe\">\n",
       "  <thead>\n",
       "    <tr style=\"text-align: right;\">\n",
       "      <th></th>\n",
       "      <th>dicom_id</th>\n",
       "      <th>path</th>\n",
       "      <th>study_id</th>\n",
       "      <th>patient_id</th>\n",
       "      <th>stay_id</th>\n",
       "      <th>gender</th>\n",
       "      <th>anchor_age</th>\n",
       "      <th>image_top_pad</th>\n",
       "      <th>image_bottom_pad</th>\n",
       "      <th>image_left_pad</th>\n",
       "      <th>image_right_pad</th>\n",
       "      <th>dx1</th>\n",
       "      <th>dx1_icd</th>\n",
       "      <th>dx2</th>\n",
       "      <th>dx2_icd</th>\n",
       "      <th>dx3</th>\n",
       "      <th>dx3_icd</th>\n",
       "      <th>dx4</th>\n",
       "      <th>dx4_icd</th>\n",
       "      <th>dx5</th>\n",
       "      <th>dx5_icd</th>\n",
       "      <th>dx6</th>\n",
       "      <th>dx6_icd</th>\n",
       "      <th>dx7</th>\n",
       "      <th>dx7_icd</th>\n",
       "      <th>dx8</th>\n",
       "      <th>dx8_icd</th>\n",
       "      <th>dx9</th>\n",
       "      <th>dx9_icd</th>\n",
       "      <th>normal_reports</th>\n",
       "      <th>Normal</th>\n",
       "      <th>CHF</th>\n",
       "      <th>pneumonia</th>\n",
       "      <th>consolidation</th>\n",
       "      <th>enlarged_cardiac_silhouette</th>\n",
       "      <th>linear__patchy_atelectasis</th>\n",
       "      <th>lobar__segmental_collapse</th>\n",
       "      <th>not_otherwise_specified_opacity___pleural__parenchymal_opacity__</th>\n",
       "      <th>pleural_effusion_or_thickening</th>\n",
       "      <th>pulmonary_edema__hazy_opacity</th>\n",
       "      <th>normal_anatomically</th>\n",
       "      <th>elevated_hemidiaphragm</th>\n",
       "      <th>hyperaeration</th>\n",
       "      <th>vascular_redistribution</th>\n",
       "      <th>atelectasis__chx</th>\n",
       "      <th>cardiomegaly__chx</th>\n",
       "      <th>consolidation__chx</th>\n",
       "      <th>edema__chx</th>\n",
       "      <th>enlarged_cardiomediastinum__chx</th>\n",
       "      <th>fracture__chx</th>\n",
       "      <th>lung_lesion__chx</th>\n",
       "      <th>lung_opacity__chx</th>\n",
       "      <th>no_finding__chx</th>\n",
       "      <th>pleural_effusion__chx</th>\n",
       "      <th>pleural_other__chx</th>\n",
       "      <th>pneumonia__chx</th>\n",
       "      <th>pneumothorax__chx</th>\n",
       "      <th>support_devices__chx</th>\n",
       "      <th>cxr_exam_indication</th>\n",
       "    </tr>\n",
       "  </thead>\n",
       "  <tbody>\n",
       "    <tr>\n",
       "      <th>4</th>\n",
       "      <td>62fe5d5a-1806ee3c-f4e742fa-f2b036ea-d390057a</td>\n",
       "      <td>files/p12/p12055181/s59722264/62fe5d5a-1806ee3...</td>\n",
       "      <td>59722264</td>\n",
       "      <td>12055181</td>\n",
       "      <td>37532814.0</td>\n",
       "      <td>M</td>\n",
       "      <td>20 - 30</td>\n",
       "      <td>0</td>\n",
       "      <td>0</td>\n",
       "      <td>534</td>\n",
       "      <td>534</td>\n",
       "      <td>Heart failure, unspecified</td>\n",
       "      <td>I50.9</td>\n",
       "      <td>NaN</td>\n",
       "      <td>NaN</td>\n",
       "      <td>NaN</td>\n",
       "      <td>NaN</td>\n",
       "      <td>NaN</td>\n",
       "      <td>NaN</td>\n",
       "      <td>NaN</td>\n",
       "      <td>NaN</td>\n",
       "      <td>NaN</td>\n",
       "      <td>NaN</td>\n",
       "      <td>NaN</td>\n",
       "      <td>NaN</td>\n",
       "      <td>NaN</td>\n",
       "      <td>NaN</td>\n",
       "      <td>NaN</td>\n",
       "      <td>NaN</td>\n",
       "      <td>0</td>\n",
       "      <td>0</td>\n",
       "      <td>1</td>\n",
       "      <td>0</td>\n",
       "      <td>0</td>\n",
       "      <td>1</td>\n",
       "      <td>0</td>\n",
       "      <td>0</td>\n",
       "      <td>1</td>\n",
       "      <td>1</td>\n",
       "      <td>0</td>\n",
       "      <td>0</td>\n",
       "      <td>0</td>\n",
       "      <td>0</td>\n",
       "      <td>0</td>\n",
       "      <td>NaN</td>\n",
       "      <td>1.0</td>\n",
       "      <td>NaN</td>\n",
       "      <td>0.0</td>\n",
       "      <td>NaN</td>\n",
       "      <td>NaN</td>\n",
       "      <td>NaN</td>\n",
       "      <td>1.0</td>\n",
       "      <td>NaN</td>\n",
       "      <td>1.0</td>\n",
       "      <td>NaN</td>\n",
       "      <td>-1.0</td>\n",
       "      <td>NaN</td>\n",
       "      <td>NaN</td>\n",
       "      <td>___M with DOE, SOB in supine position  // eval...</td>\n",
       "    </tr>\n",
       "  </tbody>\n",
       "</table>\n",
       "</div>"
      ],
      "text/plain": [
       "                                       dicom_id  \\\n",
       "4  62fe5d5a-1806ee3c-f4e742fa-f2b036ea-d390057a   \n",
       "\n",
       "                                                path  study_id  patient_id  \\\n",
       "4  files/p12/p12055181/s59722264/62fe5d5a-1806ee3...  59722264    12055181   \n",
       "\n",
       "      stay_id gender anchor_age  image_top_pad  image_bottom_pad  \\\n",
       "4  37532814.0      M    20 - 30              0                 0   \n",
       "\n",
       "   image_left_pad  image_right_pad                         dx1 dx1_icd  dx2  \\\n",
       "4             534              534  Heart failure, unspecified   I50.9  NaN   \n",
       "\n",
       "  dx2_icd  dx3 dx3_icd  dx4 dx4_icd  dx5 dx5_icd  dx6 dx6_icd  dx7  dx7_icd  \\\n",
       "4     NaN  NaN     NaN  NaN     NaN  NaN     NaN  NaN     NaN  NaN      NaN   \n",
       "\n",
       "   dx8 dx8_icd  dx9  dx9_icd  normal_reports  Normal  CHF  pneumonia  \\\n",
       "4  NaN     NaN  NaN      NaN               0       0    1          0   \n",
       "\n",
       "   consolidation  enlarged_cardiac_silhouette  linear__patchy_atelectasis  \\\n",
       "4              0                            1                           0   \n",
       "\n",
       "   lobar__segmental_collapse  \\\n",
       "4                          0   \n",
       "\n",
       "   not_otherwise_specified_opacity___pleural__parenchymal_opacity__  \\\n",
       "4                                                  1                  \n",
       "\n",
       "   pleural_effusion_or_thickening  pulmonary_edema__hazy_opacity  \\\n",
       "4                               1                              0   \n",
       "\n",
       "   normal_anatomically  elevated_hemidiaphragm  hyperaeration  \\\n",
       "4                    0                       0              0   \n",
       "\n",
       "   vascular_redistribution  atelectasis__chx  cardiomegaly__chx  \\\n",
       "4                        0               NaN                1.0   \n",
       "\n",
       "   consolidation__chx  edema__chx  enlarged_cardiomediastinum__chx  \\\n",
       "4                 NaN         0.0                              NaN   \n",
       "\n",
       "   fracture__chx  lung_lesion__chx  lung_opacity__chx  no_finding__chx  \\\n",
       "4            NaN               NaN                1.0              NaN   \n",
       "\n",
       "   pleural_effusion__chx  pleural_other__chx  pneumonia__chx  \\\n",
       "4                    1.0                 NaN            -1.0   \n",
       "\n",
       "   pneumothorax__chx  support_devices__chx  \\\n",
       "4                NaN                   NaN   \n",
       "\n",
       "                                 cxr_exam_indication  \n",
       "4  ___M with DOE, SOB in supine position  // eval...  "
      ]
     },
     "execution_count": 12,
     "metadata": {},
     "output_type": "execute_result"
    }
   ],
   "source": [
    "eye_gaze_df[ eye_gaze_df[\"dicom_id\"] == \"62fe5d5a-1806ee3c-f4e742fa-f2b036ea-d390057a\"]"
   ]
  },
  {
   "cell_type": "code",
   "execution_count": 5,
   "metadata": {},
   "outputs": [
    {
     "data": {
      "text/plain": [
       "15628804"
      ]
     },
     "execution_count": 5,
     "metadata": {},
     "output_type": "execute_result"
    }
   ],
   "source": [
    "patient.getID()"
   ]
  },
  {
   "cell_type": "code",
   "execution_count": 13,
   "metadata": {},
   "outputs": [
    {
     "data": {
      "text/plain": [
       "Index(['Unnamed: 0_x', 'patient_id', 'gender_x', 'anchor_age_x', 'anchor_year',\n",
       "       'anchor_year_group', 'dod', 'Unnamed: 0_y', 'hadm_id_x', 'admittime',\n",
       "       'dischtime', 'deathtime', 'admission_type', 'admission_location',\n",
       "       'discharge_location', 'insurance', 'language', 'marital_status', 'race',\n",
       "       'edregtime', 'edouttime', 'hospital_expire_flag', 'Unnamed: 0',\n",
       "       'hadm_id_y', 'transfer_id', 'eventtype', 'careunit', 'intime',\n",
       "       'outtime', 'dicom_id', 'path', 'study_id', 'stay_id', 'gender_y',\n",
       "       'anchor_age_y', 'image_top_pad', 'image_bottom_pad', 'image_left_pad',\n",
       "       'image_right_pad', 'dx1', 'dx1_icd', 'dx2', 'dx2_icd', 'dx3', 'dx3_icd',\n",
       "       'dx4', 'dx4_icd', 'dx5', 'dx5_icd', 'dx6', 'dx6_icd', 'dx7', 'dx7_icd',\n",
       "       'dx8', 'dx8_icd', 'dx9', 'dx9_icd', 'normal_reports', 'Normal', 'CHF',\n",
       "       'pneumonia', 'consolidation', 'enlarged_cardiac_silhouette',\n",
       "       'linear__patchy_atelectasis', 'lobar__segmental_collapse',\n",
       "       'not_otherwise_specified_opacity___pleural__parenchymal_opacity__',\n",
       "       'pleural_effusion_or_thickening', 'pulmonary_edema__hazy_opacity',\n",
       "       'normal_anatomically', 'elevated_hemidiaphragm', 'hyperaeration',\n",
       "       'vascular_redistribution', 'atelectasis__chx', 'cardiomegaly__chx',\n",
       "       'consolidation__chx', 'edema__chx', 'enlarged_cardiomediastinum__chx',\n",
       "       'fracture__chx', 'lung_lesion__chx', 'lung_opacity__chx',\n",
       "       'no_finding__chx', 'pleural_effusion__chx', 'pleural_other__chx',\n",
       "       'pneumonia__chx', 'pneumothorax__chx', 'support_devices__chx',\n",
       "       'cxr_exam_indication'],\n",
       "      dtype='object')"
      ]
     },
     "execution_count": 13,
     "metadata": {},
     "output_type": "execute_result"
    }
   ],
   "source": [
    "sample.columns"
   ]
  },
  {
   "cell_type": "code",
   "execution_count": null,
   "metadata": {},
   "outputs": [],
   "source": []
  }
 ],
 "metadata": {
  "kernelspec": {
   "display_name": "pytorch",
   "language": "python",
   "name": "python3"
  },
  "language_info": {
   "codemirror_mode": {
    "name": "ipython",
    "version": 3
   },
   "file_extension": ".py",
   "mimetype": "text/x-python",
   "name": "python",
   "nbconvert_exporter": "python",
   "pygments_lexer": "ipython3",
   "version": "3.9.13"
  },
  "orig_nbformat": 4,
  "vscode": {
   "interpreter": {
    "hash": "df3a6b48546647546738807227c1f3471a3ed95cd2003ccd666cd4075892e836"
   }
  }
 },
 "nbformat": 4,
 "nbformat_minor": 2
}
