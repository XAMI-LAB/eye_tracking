{
 "cells": [
  {
   "attachments": {},
   "cell_type": "markdown",
   "metadata": {},
   "source": [
    "# MIMIC-EYE 1.0 - An Eye-Tracking Data Analytics Toolkit for REFLACX and EYE GAZE"
   ]
  },
  {
   "cell_type": "code",
   "execution_count": 1,
   "metadata": {},
   "outputs": [],
   "source": [
    "import pandas as pd\n",
    "import numpy as np\n",
    "import os\n",
    "import pickle as pkl\n",
    "import matplotlib.pyplot as plt"
   ]
  },
  {
   "cell_type": "code",
   "execution_count": 2,
   "metadata": {},
   "outputs": [],
   "source": [
    "from mimic.Patient import Patient\n",
    "from MIMIC_EYE import MIMIC_EYE\n",
    "from Constants import Constants as c\n"
   ]
  },
  {
   "cell_type": "code",
   "execution_count": 3,
   "metadata": {},
   "outputs": [],
   "source": [
    "# starting program\n",
    "mimic_eye = MIMIC_EYE()"
   ]
  },
  {
   "cell_type": "code",
   "execution_count": 6,
   "metadata": {},
   "outputs": [
    {
     "ename": "TypeError",
     "evalue": "Patient() takes no arguments",
     "output_type": "error",
     "traceback": [
      "\u001b[0;31m---------------------------------------------------------------------------\u001b[0m",
      "\u001b[0;31mTypeError\u001b[0m                                 Traceback (most recent call last)",
      "\u001b[0;32m/var/folders/8j/jql_tttd2zg2dtk72cy8h9cc0000gn/T/ipykernel_42081/3891129488.py\u001b[0m in \u001b[0;36m<cell line: 5>\u001b[0;34m()\u001b[0m\n\u001b[1;32m     15\u001b[0m \u001b[0;34m\u001b[0m\u001b[0m\n\u001b[1;32m     16\u001b[0m   \u001b[0;31m# create a new Patient\u001b[0m\u001b[0;34m\u001b[0m\u001b[0;34m\u001b[0m\u001b[0m\n\u001b[0;32m---> 17\u001b[0;31m   \u001b[0mpatient\u001b[0m \u001b[0;34m=\u001b[0m \u001b[0mPatient\u001b[0m\u001b[0;34m(\u001b[0m\u001b[0mmimic_core\u001b[0m\u001b[0;34m[\u001b[0m\u001b[0;34m\"patient_id\"\u001b[0m\u001b[0;34m]\u001b[0m\u001b[0;34m.\u001b[0m\u001b[0mtail\u001b[0m\u001b[0;34m(\u001b[0m\u001b[0;36m1\u001b[0m\u001b[0;34m)\u001b[0m\u001b[0;34m,\u001b[0m \u001b[0mmimic_core\u001b[0m\u001b[0;34m[\u001b[0m\u001b[0;34m\"gender_x\"\u001b[0m\u001b[0;34m]\u001b[0m\u001b[0;34m.\u001b[0m\u001b[0mtail\u001b[0m\u001b[0;34m(\u001b[0m\u001b[0;36m1\u001b[0m\u001b[0;34m)\u001b[0m\u001b[0;34m,\u001b[0m \u001b[0mmimic_core\u001b[0m\u001b[0;34m[\u001b[0m\u001b[0;34m\"language\"\u001b[0m\u001b[0;34m]\u001b[0m\u001b[0;34m.\u001b[0m\u001b[0mtail\u001b[0m\u001b[0;34m(\u001b[0m\u001b[0;36m1\u001b[0m\u001b[0;34m)\u001b[0m\u001b[0;34m,\u001b[0m \u001b[0mmimic_core\u001b[0m\u001b[0;34m[\u001b[0m\u001b[0;34m\"marital_status\"\u001b[0m\u001b[0;34m]\u001b[0m\u001b[0;34m.\u001b[0m\u001b[0mtail\u001b[0m\u001b[0;34m(\u001b[0m\u001b[0;36m1\u001b[0m\u001b[0;34m)\u001b[0m\u001b[0;34m,\u001b[0m \u001b[0mmimic_core\u001b[0m\u001b[0;34m[\u001b[0m\u001b[0;34m\"race\"\u001b[0m\u001b[0;34m]\u001b[0m\u001b[0;34m.\u001b[0m\u001b[0mtail\u001b[0m\u001b[0;34m(\u001b[0m\u001b[0;36m1\u001b[0m\u001b[0;34m)\u001b[0m\u001b[0;34m,\u001b[0m \u001b[0mmimic_core\u001b[0m\u001b[0;34m[\u001b[0m\u001b[0;34m\"anchor_age_x\"\u001b[0m\u001b[0;34m]\u001b[0m\u001b[0;34m.\u001b[0m\u001b[0mtail\u001b[0m\u001b[0;34m(\u001b[0m\u001b[0;36m1\u001b[0m\u001b[0;34m)\u001b[0m\u001b[0;34m,\u001b[0m \u001b[0mmimic_core\u001b[0m\u001b[0;34m[\u001b[0m\u001b[0;34m\"anchor_year\"\u001b[0m\u001b[0;34m]\u001b[0m\u001b[0;34m.\u001b[0m\u001b[0mtail\u001b[0m\u001b[0;34m(\u001b[0m\u001b[0;36m1\u001b[0m\u001b[0;34m)\u001b[0m\u001b[0;34m,\u001b[0m \u001b[0mmimic_core\u001b[0m\u001b[0;34m[\u001b[0m\u001b[0;34m\"dod\"\u001b[0m\u001b[0;34m]\u001b[0m\u001b[0;34m.\u001b[0m\u001b[0mtail\u001b[0m\u001b[0;34m(\u001b[0m\u001b[0;36m1\u001b[0m\u001b[0;34m)\u001b[0m\u001b[0;34m,\u001b[0m \u001b[0mmimic_core\u001b[0m\u001b[0;34m[\u001b[0m\u001b[0;34m\"anchor_year_group\"\u001b[0m\u001b[0;34m]\u001b[0m\u001b[0;34m.\u001b[0m\u001b[0mtail\u001b[0m\u001b[0;34m(\u001b[0m\u001b[0;36m1\u001b[0m\u001b[0;34m)\u001b[0m\u001b[0;34m,\u001b[0m \u001b[0;34m{\u001b[0m\u001b[0;34m}\u001b[0m\u001b[0;34m,\u001b[0m \u001b[0;34m{\u001b[0m\u001b[0;34m}\u001b[0m  \u001b[0;34m)\u001b[0m\u001b[0;34m\u001b[0m\u001b[0;34m\u001b[0m\u001b[0m\n\u001b[0m\u001b[1;32m     18\u001b[0m \u001b[0;34m\u001b[0m\u001b[0m\n\u001b[1;32m     19\u001b[0m   \u001b[0;31m# create a new Xray Study\u001b[0m\u001b[0;34m\u001b[0m\u001b[0;34m\u001b[0m\u001b[0m\n",
      "\u001b[0;31mTypeError\u001b[0m: Patient() takes no arguments"
     ]
    }
   ],
   "source": [
    "eye_gaze_sheet = os.path.join(c.DATASET_PATH, \"spreadsheets\", 'EyeGaze', \"master_sheet_with_updated_stayId.csv\")\n",
    "eye_gaze_df = pd.read_csv( eye_gaze_sheet )\n",
    "\n",
    "sample = eye_gaze_df.loc[0:5,:]\n",
    "for i, r in sample.iterrows():\n",
    "  \n",
    "  # get MIMIC Core data\n",
    "  mimic_core = pd.read_csv( c.MIMIC_CORE_PATH(c.DATASET_PATH, r[\"patient_id\"], c.MIMIC_CORE_TABLES[0]) )\n",
    "  for core_table in c.MIMIC_CORE_TABLES[1:]:\n",
    "    mimic_core_tmp = pd.read_csv( c.MIMIC_CORE_PATH(c.DATASET_PATH, r[\"patient_id\"], core_table) )\n",
    "    mimic_core = mimic_core.merge(mimic_core_tmp, on=\"subject_id\")\n",
    "  mimic_core.rename(columns = {'subject_id':'patient_id'}, inplace = True)\n",
    "\n",
    "  mimic_core = mimic_core.merge(eye_gaze_df, on=\"patient_id\")\n",
    "\n",
    "  # create a new Patient\n",
    "  patient = Patient(mimic_core[\"patient_id\"].tail(1), mimic_core[\"gender_x\"].tail(1), mimic_core[\"language\"].tail(1), mimic_core[\"marital_status\"].tail(1), mimic_core[\"race\"].tail(1), mimic_core[\"anchor_age_x\"].tail(1), mimic_core[\"anchor_year\"].tail(1), mimic_core[\"dod\"].tail(1), mimic_core[\"anchor_year_group\"].tail(1), {}, {}  )\n",
    "\n",
    "  # create a new Xray Study\n",
    "\n",
    "  # create a new Xray\n",
    "  break\n",
    "  \n"
   ]
  },
  {
   "cell_type": "code",
   "execution_count": 10,
   "metadata": {},
   "outputs": [
    {
     "ename": "TypeError",
     "evalue": "Patient() takes no arguments",
     "output_type": "error",
     "traceback": [
      "\u001b[0;31m---------------------------------------------------------------------------\u001b[0m",
      "\u001b[0;31mTypeError\u001b[0m                                 Traceback (most recent call last)",
      "\u001b[0;32m/var/folders/8j/jql_tttd2zg2dtk72cy8h9cc0000gn/T/ipykernel_36639/3137193440.py\u001b[0m in \u001b[0;36m<cell line: 1>\u001b[0;34m()\u001b[0m\n\u001b[0;32m----> 1\u001b[0;31m \u001b[0mPatient\u001b[0m\u001b[0;34m(\u001b[0m\u001b[0;34m\"a\"\u001b[0m\u001b[0;34m,\u001b[0m \u001b[0;34m\"b\"\u001b[0m\u001b[0;34m,\u001b[0m \u001b[0;34m\"c\"\u001b[0m\u001b[0;34m,\u001b[0m \u001b[0;34m\"d\"\u001b[0m\u001b[0;34m,\u001b[0m \u001b[0;34m\"e\"\u001b[0m\u001b[0;34m,\u001b[0m \u001b[0;34m\"f\"\u001b[0m\u001b[0;34m,\u001b[0m \u001b[0;34m\"g\"\u001b[0m\u001b[0;34m,\u001b[0m \u001b[0;34m\"h\"\u001b[0m\u001b[0;34m,\u001b[0m \u001b[0;34m\"i\"\u001b[0m\u001b[0;34m,\u001b[0m \u001b[0;34m{\u001b[0m\u001b[0;34m}\u001b[0m\u001b[0;34m,\u001b[0m \u001b[0;34m{\u001b[0m\u001b[0;34m}\u001b[0m\u001b[0;34m)\u001b[0m\u001b[0;34m\u001b[0m\u001b[0;34m\u001b[0m\u001b[0m\n\u001b[0m",
      "\u001b[0;31mTypeError\u001b[0m: Patient() takes no arguments"
     ]
    }
   ],
   "source": [
    "Patient(\"a\", \"b\", \"c\", \"d\", \"e\", \"f\", \"g\", \"h\", \"i\", {}, {})"
   ]
  },
  {
   "cell_type": "code",
   "execution_count": 9,
   "metadata": {},
   "outputs": [
    {
     "data": {
      "text/plain": [
       "dicom_id                                                                 24c7496c-d7635dfe-b8e0b87f-d818affc-78ff7cf4\n",
       "path                                                                files/p15/p15628804/s58573295/24c7496c-d7635df...\n",
       "study_id                                                                                                     58573295\n",
       "patient_id                                                                                                   15628804\n",
       "stay_id                                                                                                    33237058.0\n",
       "gender                                                                                                              F\n",
       "anchor_age                                                                                                    20 - 30\n",
       "image_top_pad                                                                                                      86\n",
       "image_bottom_pad                                                                                                   86\n",
       "image_left_pad                                                                                                    448\n",
       "image_right_pad                                                                                                   448\n",
       "dx1                                                                                        Heart failure, unspecified\n",
       "dx1_icd                                                                                                         I50.9\n",
       "dx2                                                                                                               NaN\n",
       "dx2_icd                                                                                                           NaN\n",
       "dx3                                                                                                               NaN\n",
       "dx3_icd                                                                                                           NaN\n",
       "dx4                                                                                                               NaN\n",
       "dx4_icd                                                                                                           NaN\n",
       "dx5                                                                                                               NaN\n",
       "dx5_icd                                                                                                           NaN\n",
       "dx6                                                                                                               NaN\n",
       "dx6_icd                                                                                                           NaN\n",
       "dx7                                                                                                               NaN\n",
       "dx7_icd                                                                                                           NaN\n",
       "dx8                                                                                                               NaN\n",
       "dx8_icd                                                                                                           NaN\n",
       "dx9                                                                                                               NaN\n",
       "dx9_icd                                                                                                           NaN\n",
       "normal_reports                                                                                                      0\n",
       "Normal                                                                                                              0\n",
       "CHF                                                                                                                 1\n",
       "pneumonia                                                                                                           0\n",
       "consolidation                                                                                                       0\n",
       "enlarged_cardiac_silhouette                                                                                         1\n",
       "linear__patchy_atelectasis                                                                                          0\n",
       "lobar__segmental_collapse                                                                                           0\n",
       "not_otherwise_specified_opacity___pleural__parenchymal_opacity__                                                    0\n",
       "pleural_effusion_or_thickening                                                                                      0\n",
       "pulmonary_edema__hazy_opacity                                                                                       1\n",
       "normal_anatomically                                                                                                 0\n",
       "elevated_hemidiaphragm                                                                                              0\n",
       "hyperaeration                                                                                                       0\n",
       "vascular_redistribution                                                                                             0\n",
       "atelectasis__chx                                                                                                  NaN\n",
       "cardiomegaly__chx                                                                                                 1.0\n",
       "consolidation__chx                                                                                                NaN\n",
       "edema__chx                                                                                                       -1.0\n",
       "enlarged_cardiomediastinum__chx                                                                                   NaN\n",
       "fracture__chx                                                                                                     NaN\n",
       "lung_lesion__chx                                                                                                  NaN\n",
       "lung_opacity__chx                                                                                                 NaN\n",
       "no_finding__chx                                                                                                   NaN\n",
       "pleural_effusion__chx                                                                                             NaN\n",
       "pleural_other__chx                                                                                                NaN\n",
       "pneumonia__chx                                                                                                    NaN\n",
       "pneumothorax__chx                                                                                                 NaN\n",
       "support_devices__chx                                                                                              NaN\n",
       "cxr_exam_indication                                                 ___F with CHF and  shortness of breath// ?Pulm...\n",
       "Name: 0, dtype: object"
      ]
     },
     "execution_count": 9,
     "metadata": {},
     "output_type": "execute_result"
    }
   ],
   "source": [
    "r"
   ]
  },
  {
   "cell_type": "code",
   "execution_count": null,
   "metadata": {},
   "outputs": [],
   "source": []
  }
 ],
 "metadata": {
  "kernelspec": {
   "display_name": "base",
   "language": "python",
   "name": "python3"
  },
  "language_info": {
   "codemirror_mode": {
    "name": "ipython",
    "version": 3
   },
   "file_extension": ".py",
   "mimetype": "text/x-python",
   "name": "python",
   "nbconvert_exporter": "python",
   "pygments_lexer": "ipython3",
   "version": "3.9.13"
  },
  "orig_nbformat": 4,
  "vscode": {
   "interpreter": {
    "hash": "3067ead486e059ec00ffe7555bdb889e6e264a24dc711bf108106cc7baee8d5d"
   }
  }
 },
 "nbformat": 4,
 "nbformat_minor": 2
}
